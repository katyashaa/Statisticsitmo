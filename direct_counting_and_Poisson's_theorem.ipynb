{
  "nbformat": 4,
  "nbformat_minor": 0,
  "metadata": {
    "colab": {
      "provenance": [],
      "authorship_tag": "ABX9TyNGEOQqHIUjZ3tgQyw9EGB7",
      "include_colab_link": true
    },
    "kernelspec": {
      "name": "python3",
      "display_name": "Python 3"
    },
    "language_info": {
      "name": "python"
    }
  },
  "cells": [
    {
      "cell_type": "markdown",
      "metadata": {
        "id": "view-in-github",
        "colab_type": "text"
      },
      "source": [
        "<a href=\"https://colab.research.google.com/github/katyashaa/Statisticsitmo/blob/main/direct_counting_and_Poisson's_theorem.ipynb\" target=\"_parent\"><img src=\"https://colab.research.google.com/assets/colab-badge.svg\" alt=\"Open In Colab\"/></a>"
      ]
    },
    {
      "cell_type": "code",
      "execution_count": null,
      "metadata": {
        "colab": {
          "base_uri": "https://localhost:8080/"
        },
        "id": "j6xMAqfD0Mo5",
        "outputId": "e5d4cb31-1224-45f4-98bf-c02f4b4bcacb"
      },
      "outputs": [
        {
          "output_type": "stream",
          "name": "stdout",
          "text": [
            "Вероятность того, что приживутся не менее 5 семян (прямой подсчет): 0.4528\n",
            "Вероятность того, что приживутся не менее 5 семян (теорема Пуассона): 0.4526\n"
          ]
        }
      ],
      "source": [
        "from math import comb\n",
        "\n",
        "n = 1700  # количество семян\n",
        "p = 0.0026  # вероятность приживания\n",
        "k_max = 5  # максимальное количество прижившихся семян\n",
        "\n",
        "\n",
        "from scipy.stats import binom\n",
        "\n",
        "# Параметры\n",
        "n = 1700  # общее количество семян\n",
        "p = 0.0026  # вероятность приживания семени\n",
        "\n",
        "# Вероятность того, что приживутся менее 5 семян\n",
        "P_less_than_5 = sum(binom.pmf(k, n, p) for k in range(5))\n",
        "\n",
        "# Вероятность того, что приживутся 5 и более семян\n",
        "P_at_least_5 = 1 - P_less_than_5\n",
        "\n",
        "print(f\"Вероятность того, что приживутся не менее 5 семян (прямой подсчет): {P_at_least_5:.4f}\")\n",
        "\n",
        "from scipy.stats import poisson\n",
        "\n",
        "# Параметр λ (лямбда)\n",
        "lambda_param = n * p\n",
        "\n",
        "# Вероятность того, что приживутся менее 5 семян с помощью распределения Пуассона\n",
        "P_less_than_5_poisson = sum(poisson.pmf(k, lambda_param) for k in range(5))\n",
        "\n",
        "# Вероятность того, что приживутся 5 и более семян\n",
        "P_at_least_5_poisson = 1 - P_less_than_5_poisson\n",
        "\n",
        "print(f\"Вероятность того, что приживутся не менее 5 семян (теорема Пуассона): {P_at_least_5_poisson:.4f}\")"
      ]
    }
  ]
}
