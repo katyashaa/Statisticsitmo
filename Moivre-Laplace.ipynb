{
  "nbformat": 4,
  "nbformat_minor": 0,
  "metadata": {
    "colab": {
      "provenance": [],
      "authorship_tag": "ABX9TyOQYfaoQoggbi72wNL2amfh",
      "include_colab_link": true
    },
    "kernelspec": {
      "name": "python3",
      "display_name": "Python 3"
    },
    "language_info": {
      "name": "python"
    }
  },
  "cells": [
    {
      "cell_type": "markdown",
      "metadata": {
        "id": "view-in-github",
        "colab_type": "text"
      },
      "source": [
        "<a href=\"https://colab.research.google.com/github/katyashaa/Statisticsitmo/blob/main/Moivre-Laplace.ipynb\" target=\"_parent\"><img src=\"https://colab.research.google.com/assets/colab-badge.svg\" alt=\"Open In Colab\"/></a>"
      ]
    },
    {
      "cell_type": "code",
      "execution_count": 1,
      "metadata": {
        "colab": {
          "base_uri": "https://localhost:8080/"
        },
        "id": "Loazco8uzNwe",
        "outputId": "edc2face-b1ee-4fb3-a269-472bb5aef7f8"
      },
      "outputs": [
        {
          "output_type": "stream",
          "name": "stdout",
          "text": [
            "Вероятность того, что приживутся не менее 5 семян: 0.39118\n"
          ]
        }
      ],
      "source": [
        "import scipy.stats as stats\n",
        "\n",
        "# Задаем параметры\n",
        "n = 1700\n",
        "p = 0.0026\n",
        "mu = n * p\n",
        "sigma = (n * p * (1 - p)) ** 0.5\n",
        "\n",
        "# Находим вероятность P(X < 5)\n",
        "z_value = (5 - mu) / sigma\n",
        "p_less_5 = stats.norm.cdf(z_value)\n",
        "\n",
        "# Находим вероятность P(X >= 5)\n",
        "p_at_least_5 = 1 - p_less_5\n",
        "\n",
        "# Выводим результат\n",
        "print(f\"Вероятность того, что приживутся не менее 5 семян: {p_at_least_5:.5f}\")"
      ]
    }
  ]
}