{
  "nbformat": 4,
  "nbformat_minor": 0,
  "metadata": {
    "colab": {
      "provenance": [],
      "authorship_tag": "ABX9TyOAzlSit37GpL4RvxEsSwjj",
      "include_colab_link": true
    },
    "kernelspec": {
      "name": "python3",
      "display_name": "Python 3"
    },
    "language_info": {
      "name": "python"
    }
  },
  "cells": [
    {
      "cell_type": "markdown",
      "metadata": {
        "id": "view-in-github",
        "colab_type": "text"
      },
      "source": [
        "<a href=\"https://colab.research.google.com/github/katyashaa/Statisticsitmo/blob/main/integral_theorem_of_Moivre-Laplace.ipynb\" target=\"_parent\"><img src=\"https://colab.research.google.com/assets/colab-badge.svg\" alt=\"Open In Colab\"/></a>"
      ]
    },
    {
      "cell_type": "code",
      "execution_count": 14,
      "metadata": {
        "colab": {
          "base_uri": "https://localhost:8080/"
        },
        "id": "oMYMYdA_o1Uj",
        "outputId": "36d314e5-6e4a-41a3-9e2a-3254a066df4f"
      },
      "outputs": [
        {
          "output_type": "stream",
          "name": "stdout",
          "text": [
            "Результат вероятности ≈ 0.85\n",
            "Результат погрешности ≈ 0.06\n"
          ]
        }
      ],
      "source": [
        "from scipy.stats import norm\n",
        "import math\n",
        "\n",
        "# Параметры\n",
        "n = 20000  # количество испытаний\n",
        "p = 0.13  # вероятность ошибки при одном испытании\n",
        "B = 2650  # верхняя граница\n",
        "A = 0  # нижняя граница\n",
        "\n",
        "# Математическое ожидание\n",
        "mean = n * p  # среднее значение\n",
        "\n",
        "# Стандартное отклонение\n",
        "sigma = math.sqrt(n * p * (1 - p))\n",
        "\n",
        "# Выражения для Φ\n",
        "z1 = (B - mean) / sigma\n",
        "z2 = (A - mean) / sigma\n",
        "\n",
        "# Вычисление разности значений функции распределения\n",
        "result = norm.cdf(z1) - norm.cdf(z2)\n",
        "\n",
        "# Вычисление погрешности\n",
        "a = 1/(p*(1-p)*math.sqrt(n))\n",
        "\n",
        "print(f\"Результат вероятности ≈ {result:.2f}\")\n",
        "print(f\"Результат погрешности ≈ {a:.2f}\")\n"
      ]
    }
  ]
}